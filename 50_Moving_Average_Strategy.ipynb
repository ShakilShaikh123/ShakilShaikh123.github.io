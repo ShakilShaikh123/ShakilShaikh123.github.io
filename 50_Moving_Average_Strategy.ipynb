{
 "cells": [
  {
   "cell_type": "code",
   "execution_count": 148,
   "id": "1aa42b84",
   "metadata": {},
   "outputs": [],
   "source": [
    "import numpy as np\n",
    "import pandas as pd\n",
    "from stocktrends import Renko, indicators\n",
    "import statsmodels.api as sm\n",
    "import yfinance as yf\n",
    "import copy"
   ]
  },
  {
   "cell_type": "code",
   "execution_count": 149,
   "id": "087ec91e",
   "metadata": {},
   "outputs": [],
   "source": [
    "tickers = [\"INFY.NS\", \"TCS.NS\", \"WIPRO.NS\", \"TATASTEEL.NS\"]\n",
    "ohlc_intraday = {}\n",
    "attempt = 0 # initializing passthrough variable\n",
    "drop = [] # initializing list to store tickers whose close price was successfully extracted"
   ]
  },
  {
   "cell_type": "code",
   "execution_count": 150,
   "id": "5cfef212",
   "metadata": {},
   "outputs": [
    {
     "name": "stdout",
     "output_type": "stream",
     "text": [
      "[*********************100%***********************]  1 of 1 completed\n",
      "[*********************100%***********************]  1 of 1 completed\n",
      "[*********************100%***********************]  1 of 1 completed\n",
      "[*********************100%***********************]  1 of 1 completed\n"
     ]
    }
   ],
   "source": [
    "while len(tickers) != 0 and attempt <=5:\n",
    "    tickers = [j for j in tickers if j not in drop]\n",
    "    for i in range(len(tickers)):        \n",
    "        try:\n",
    "            # ohlc_intraday[tickers[i]] = ts.get_intraday(symbol=tickers[i],interval='5min', outputsize='full')[0]\n",
    "            ohlc_intraday[tickers[i]] = yf.download(tickers[i],period='60d' , interval='15m')\n",
    "            # ohlc_intraday[tickers[i]].columns = [\"Open\",\"High\",\"Low\",\"Adj Close\",\"Volume\"]\n",
    "            drop.append(tickers[i])      \n",
    "        except:\n",
    "            print(tickers[i],\" :failed to fetch data...retrying\")\n",
    "            continue\n",
    "    attempt+=1\n",
    "\n",
    " \n",
    "tickers = ohlc_intraday.keys() # redefine tickers variable after removing any tickers with corrupted data"
   ]
  },
  {
   "cell_type": "code",
   "execution_count": 151,
   "id": "a3e059f7",
   "metadata": {},
   "outputs": [],
   "source": [
    "movingDF = copy.deepcopy(ohlc_intraday)\n",
    "tickers_signal = {}\n",
    "tickers_ret = {}"
   ]
  },
  {
   "cell_type": "code",
   "execution_count": 152,
   "id": "42ab742b",
   "metadata": {},
   "outputs": [],
   "source": [
    "#movingDF['INFY.NS'][\"A\"]"
   ]
  },
  {
   "cell_type": "code",
   "execution_count": 153,
   "id": "e4bc0fdf",
   "metadata": {},
   "outputs": [
    {
     "name": "stdout",
     "output_type": "stream",
     "text": [
      "merging for  INFY.NS\n",
      "merging for  TCS.NS\n",
      "merging for  WIPRO.NS\n",
      "merging for  TATASTEEL.NS\n"
     ]
    }
   ],
   "source": [
    "movingAverage = []\n",
    "for ticker in tickers:\n",
    "    print(\"merging for \",ticker)\n",
    "    \n",
    "    #movingDF[ticker][\"50EMA\"]= movingDF[ticker][\"Adj Close\"].ewm(span=50,min_periods=50).mean()\n",
    "    movingDF[ticker][\"44MA\"]= movingDF[ticker][\"Adj Close\"].rolling(30).mean()\n",
    "    movingDF[ticker].dropna(inplace=True)\n",
    "\n",
    "    tickers_signal[ticker] = \"\"\n",
    "    tickers_ret[ticker] = []"
   ]
  },
  {
   "cell_type": "code",
   "execution_count": 154,
   "id": "4e378f11",
   "metadata": {},
   "outputs": [
    {
     "data": {
      "text/plain": [
       "Datetime\n",
       "2022-01-25 10:15:00+05:30    1740.500008\n",
       "2022-01-25 10:30:00+05:30    1739.486674\n",
       "2022-01-25 10:45:00+05:30    1738.423340\n",
       "2022-01-25 11:00:00+05:30    1737.521672\n",
       "2022-01-25 11:15:00+05:30    1736.701672\n",
       "                                ...     \n",
       "2022-04-22 14:30:00+05:30    1605.880001\n",
       "2022-04-22 14:45:00+05:30    1604.578333\n",
       "2022-04-22 15:00:00+05:30    1603.386666\n",
       "2022-04-22 15:15:00+05:30    1602.180001\n",
       "2022-04-22 15:30:00+05:30    1600.966667\n",
       "Name: 44MA, Length: 1472, dtype: float64"
      ]
     },
     "execution_count": 154,
     "metadata": {},
     "output_type": "execute_result"
    }
   ],
   "source": [
    "movingDF['INFY.NS']['44MA']"
   ]
  },
  {
   "cell_type": "code",
   "execution_count": 155,
   "id": "bcb20f43",
   "metadata": {},
   "outputs": [
    {
     "name": "stdout",
     "output_type": "stream",
     "text": [
      "calculating daily returns for  INFY.NS\n"
     ]
    },
    {
     "ename": "NameError",
     "evalue": "name 'ohlc_renko' is not defined",
     "output_type": "error",
     "traceback": [
      "\u001b[0;31m---------------------------------------------------------------------------\u001b[0m",
      "\u001b[0;31mNameError\u001b[0m                                 Traceback (most recent call last)",
      "\u001b[0;32m/var/folders/rb/fr_9x2n91_g79jgnt_5372jc0000gn/T/ipykernel_14315/2730347504.py\u001b[0m in \u001b[0;36m<module>\u001b[0;34m\u001b[0m\n\u001b[1;32m     19\u001b[0m \u001b[0;34m\u001b[0m\u001b[0m\n\u001b[1;32m     20\u001b[0m         \u001b[0;32melif\u001b[0m \u001b[0mtickers_signal\u001b[0m\u001b[0;34m[\u001b[0m\u001b[0mticker\u001b[0m\u001b[0;34m]\u001b[0m \u001b[0;34m==\u001b[0m \u001b[0;34m\"Sell\"\u001b[0m\u001b[0;34m:\u001b[0m\u001b[0;34m\u001b[0m\u001b[0;34m\u001b[0m\u001b[0m\n\u001b[0;32m---> 21\u001b[0;31m             \u001b[0mtickers_ret\u001b[0m\u001b[0;34m[\u001b[0m\u001b[0mticker\u001b[0m\u001b[0;34m]\u001b[0m\u001b[0;34m.\u001b[0m\u001b[0mappend\u001b[0m\u001b[0;34m(\u001b[0m\u001b[0;34m(\u001b[0m\u001b[0mohlc_renko\u001b[0m\u001b[0;34m[\u001b[0m\u001b[0mticker\u001b[0m\u001b[0;34m]\u001b[0m\u001b[0;34m[\u001b[0m\u001b[0;34m\"Adj Close\"\u001b[0m\u001b[0;34m]\u001b[0m\u001b[0;34m[\u001b[0m\u001b[0mi\u001b[0m\u001b[0;34m-\u001b[0m\u001b[0;36m1\u001b[0m\u001b[0;34m]\u001b[0m\u001b[0;34m/\u001b[0m\u001b[0mohlc_renko\u001b[0m\u001b[0;34m[\u001b[0m\u001b[0mticker\u001b[0m\u001b[0;34m]\u001b[0m\u001b[0;34m[\u001b[0m\u001b[0;34m\"Adj Close\"\u001b[0m\u001b[0;34m]\u001b[0m\u001b[0;34m[\u001b[0m\u001b[0mi\u001b[0m\u001b[0;34m]\u001b[0m\u001b[0;34m)\u001b[0m\u001b[0;34m-\u001b[0m\u001b[0;36m1\u001b[0m\u001b[0;34m)\u001b[0m\u001b[0;34m\u001b[0m\u001b[0;34m\u001b[0m\u001b[0m\n\u001b[0m\u001b[1;32m     22\u001b[0m             \u001b[0;32mif\u001b[0m \u001b[0mi\u001b[0m \u001b[0;34m>\u001b[0m \u001b[0;36m0\u001b[0m\u001b[0;34m:\u001b[0m\u001b[0;34m\u001b[0m\u001b[0;34m\u001b[0m\u001b[0m\n\u001b[1;32m     23\u001b[0m                 \u001b[0;32mif\u001b[0m \u001b[0mmovingDF\u001b[0m\u001b[0;34m[\u001b[0m\u001b[0mticker\u001b[0m\u001b[0;34m]\u001b[0m\u001b[0;34m[\u001b[0m\u001b[0;34m\"bar_num\"\u001b[0m\u001b[0;34m]\u001b[0m\u001b[0;34m[\u001b[0m\u001b[0mi\u001b[0m\u001b[0;34m]\u001b[0m\u001b[0;34m>=\u001b[0m\u001b[0;36m2\u001b[0m \u001b[0;32mand\u001b[0m \u001b[0mmovingDF\u001b[0m\u001b[0;34m[\u001b[0m\u001b[0mticker\u001b[0m\u001b[0;34m]\u001b[0m\u001b[0;34m[\u001b[0m\u001b[0;34m\"macd\"\u001b[0m\u001b[0;34m]\u001b[0m\u001b[0;34m[\u001b[0m\u001b[0mi\u001b[0m\u001b[0;34m]\u001b[0m\u001b[0;34m>\u001b[0m\u001b[0mmovingDF\u001b[0m\u001b[0;34m[\u001b[0m\u001b[0mticker\u001b[0m\u001b[0;34m]\u001b[0m\u001b[0;34m[\u001b[0m\u001b[0;34m\"macd_sig\"\u001b[0m\u001b[0;34m]\u001b[0m\u001b[0;34m[\u001b[0m\u001b[0mi\u001b[0m\u001b[0;34m]\u001b[0m \u001b[0;32mand\u001b[0m \u001b[0mohlc_renko\u001b[0m\u001b[0;34m[\u001b[0m\u001b[0mticker\u001b[0m\u001b[0;34m]\u001b[0m\u001b[0;34m[\u001b[0m\u001b[0;34m\"macd_slope\"\u001b[0m\u001b[0;34m]\u001b[0m\u001b[0;34m[\u001b[0m\u001b[0mi\u001b[0m\u001b[0;34m]\u001b[0m\u001b[0;34m>\u001b[0m\u001b[0mohlc_renko\u001b[0m\u001b[0;34m[\u001b[0m\u001b[0mticker\u001b[0m\u001b[0;34m]\u001b[0m\u001b[0;34m[\u001b[0m\u001b[0;34m\"macd_sig_slope\"\u001b[0m\u001b[0;34m]\u001b[0m\u001b[0;34m[\u001b[0m\u001b[0mi\u001b[0m\u001b[0;34m]\u001b[0m\u001b[0;34m:\u001b[0m\u001b[0;34m\u001b[0m\u001b[0;34m\u001b[0m\u001b[0m\n",
      "\u001b[0;31mNameError\u001b[0m: name 'ohlc_renko' is not defined"
     ]
    }
   ],
   "source": [
    "#Identifying signals and calculating daily returns\n",
    "for ticker in movingDF:\n",
    "    print(\"calculating daily returns for \", ticker)\n",
    "    for i in range(len(movingDF[ticker])):\n",
    "        if tickers_signal[ticker] == \"\":\n",
    "            if i > 0:\n",
    "                if movingDF[ticker][\"Adj Close\"][i] >= movingDF[ticker][\"44MA\"][i]:\n",
    "                    tickers_signal[ticker] = \"Buy\"\n",
    "                elif movingDF[ticker][\"Adj Close\"][i] < movingDF[ticker][\"44MA\"][i]:\n",
    "                    tickers_signal[ticker] = \"Sell\"\n",
    "                \n",
    "        elif tickers_signal[ticker] == \"Buy\":\n",
    "            tickers_ret[ticker].append((movingDF[ticker][\"Adj Close\"][i]/movingDF[ticker][\"Adj Close\"][i-1])-1)\n",
    "            if i > 0:\n",
    "                if ohlc_renko[ticker][\"bar_num\"][i]<=-2 and ohlc_renko[ticker][\"macd\"][i]<ohlc_renko[ticker][\"macd_sig\"][i] and ohlc_renko[ticker][\"macd_slope\"][i]<ohlc_renko[ticker][\"macd_sig_slope\"][i]:\n",
    "                    tickers_signal[ticker] = \"Sell\"\n",
    "                elif ohlc_renko[ticker][\"macd\"][i]<ohlc_renko[ticker][\"macd_sig\"][i] and ohlc_renko[ticker][\"macd_slope\"][i]<ohlc_renko[ticker][\"macd_sig_slope\"][i]:\n",
    "                    tickers_signal[ticker] = \"\"\n",
    "                \n",
    "        elif tickers_signal[ticker] == \"Sell\":\n",
    "            tickers_ret[ticker].append((ohlc_renko[ticker][\"Adj Close\"][i-1]/ohlc_renko[ticker][\"Adj Close\"][i])-1)\n",
    "            if i > 0:\n",
    "                if movingDF[ticker][\"bar_num\"][i]>=2 and movingDF[ticker][\"macd\"][i]>movingDF[ticker][\"macd_sig\"][i] and ohlc_renko[ticker][\"macd_slope\"][i]>ohlc_renko[ticker][\"macd_sig_slope\"][i]:\n",
    "                    tickers_signal[ticker] = \"Buy\"\n",
    "                elif ohlc_renko[ticker][\"macd\"][i]>ohlc_renko[ticker][\"macd_sig\"][i] and ohlc_renko[ticker][\"macd_slope\"][i]>ohlc_renko[ticker][\"macd_sig_slope\"][i]:\n",
    "                    tickers_signal[ticker] = \"\"\n",
    "    movingDF[ticker][\"ret\"] = np.array(tickers_ret[ticker])"
   ]
  },
  {
   "cell_type": "code",
   "execution_count": null,
   "id": "2a7d6393",
   "metadata": {},
   "outputs": [],
   "source": [
    "tickers_signal"
   ]
  },
  {
   "cell_type": "code",
   "execution_count": null,
   "id": "8fb60f3f",
   "metadata": {},
   "outputs": [],
   "source": []
  },
  {
   "cell_type": "code",
   "execution_count": null,
   "id": "600f9043",
   "metadata": {},
   "outputs": [],
   "source": []
  },
  {
   "cell_type": "code",
   "execution_count": null,
   "id": "5a9c4fbd",
   "metadata": {},
   "outputs": [],
   "source": []
  }
 ],
 "metadata": {
  "kernelspec": {
   "display_name": "base",
   "language": "python",
   "name": "base"
  },
  "language_info": {
   "codemirror_mode": {
    "name": "ipython",
    "version": 3
   },
   "file_extension": ".py",
   "mimetype": "text/x-python",
   "name": "python",
   "nbconvert_exporter": "python",
   "pygments_lexer": "ipython3",
   "version": "3.9.7"
  }
 },
 "nbformat": 4,
 "nbformat_minor": 5
}
